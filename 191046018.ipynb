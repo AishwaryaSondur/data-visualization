{
 "cells": [
  {
   "cell_type": "code",
   "execution_count": 7,
   "metadata": {},
   "outputs": [
    {
     "data": {
      "text/plain": [
       "90    1991\n",
       "Name: YEAR, dtype: int64"
      ]
     },
     "execution_count": 7,
     "metadata": {},
     "output_type": "execute_result"
    }
   ],
   "source": [
    "import pandas as pd\n",
    "data=pd.read_csv(\"south_pen-India_rainfall_act_dep_1901_2016.csv\")\n",
    "#data.head()\n",
    "data.sort_values(['Actual Rainfall: JUN'],ascending=False)['YEAR'].head(1)"
   ]
  },
  {
   "cell_type": "code",
   "execution_count": 56,
   "metadata": {},
   "outputs": [],
   "source": [
    "import pandas as pd\n",
    "df=pd.read_csv(\"south_pen-India_rainfall_act_dep_1901_2016.csv\")\n",
    "df1=pd.read_csv(\"ne-India_rainfall_act_dep_1901_2016.csv\")\n",
    "df2=pd.read_csv(\"nw-India_rainfall_act_dep_1901_2016.csv\")\n",
    "df3=pd.read_csv(\"central-India_rainfall_act_dep_1901_2016.csv\")\n",
    "                                                                        "
   ]
  },
  {
   "cell_type": "code",
   "execution_count": null,
   "metadata": {},
   "outputs": [],
   "source": []
  },
  {
   "cell_type": "code",
   "execution_count": null,
   "metadata": {
    "collapsed": true
   },
   "outputs": [],
   "source": [
    "central-India_rainfall_act_dep_1901_2016.csv"
   ]
  },
  {
   "cell_type": "code",
   "execution_count": 63,
   "metadata": {},
   "outputs": [
    {
     "name": "stdout",
     "output_type": "stream",
     "text": [
      "17    1918\n",
      "83    1984\n",
      "51    1952\n",
      "36    1937\n",
      "12    1913\n",
      "Name: YEAR, dtype: int64\n",
      "78     1979\n",
      "104    2005\n",
      "91     1992\n",
      "108    2009\n",
      "74     1975\n",
      "Name: YEAR, dtype: int64\n",
      "78     1979\n",
      "64     1965\n",
      "108    2009\n",
      "67     1968\n",
      "4      1905\n",
      "Name: YEAR, dtype: int64\n",
      "108    2009\n",
      "4      1905\n",
      "64     1965\n",
      "73     1974\n",
      "19     1920\n",
      "Name: YEAR, dtype: int64\n"
     ]
    }
   ],
   "source": [
    "df[\"data\"]=df['Actual Rainfall: JUN']+df['Actual Rainfall: JUN']+df['Actual Rainfall: AUG']+df['Actual Rainfall: SEPT']\n",
    "\n",
    "print(df.sort_values('data',ascending=True)['YEAR'].head(5))\n",
    "\n",
    "\n",
    "\n",
    "df1[\"d1\"]=df1['Actual Rainfall: JUN']+df1['Actual Rainfall: JUN']+df1['Actual Rainfall: AUG']+df1['Actual Rainfall: SEPT']\n",
    "\n",
    "print(df1.sort_values('d1',ascending=True)['YEAR'].head(5))\n",
    "\n",
    "\n",
    "\n",
    "df2[\"d2\"]=df2['Actual Rainfall: JUN']+df2['Actual Rainfall: JUN']+df2['Actual Rainfall: AUG']+df2['Actual Rainfall: SEPT']\n",
    "\n",
    "print(df2.sort_values('d2',ascending=True)['YEAR'].head(5))\n",
    "\n",
    "\n",
    "\n",
    "df3[\"d3\"]=df3['Actual Rainfall: JUN']+df3['Actual Rainfall: JUN']+df3['Actual Rainfall: AUG']+df3['Actual Rainfall: SEPT']\n",
    "\n",
    "print(df3.sort_values('d3',ascending=True)['YEAR'].head(5))\n"
   ]
  },
  {
   "cell_type": "code",
   "execution_count": 61,
   "metadata": {},
   "outputs": [
    {
     "name": "stdout",
     "output_type": "stream",
     "text": [
      "78     1979\n",
      "104    2005\n",
      "91     1992\n",
      "108    2009\n",
      "74     1975\n",
      "Name: YEAR, dtype: int64\n"
     ]
    }
   ],
   "source": [
    "\n",
    "df1[\"d1\"]=df1['Actual Rainfall: JUN']+df1['Actual Rainfall: JUN']+df1['Actual Rainfall: AUG']+df1['Actual Rainfall: SEPT']\n",
    "\n",
    "print(df1.sort_values('d1',ascending=True)['YEAR'].head(5))"
   ]
  },
  {
   "cell_type": "code",
   "execution_count": null,
   "metadata": {
    "collapsed": true
   },
   "outputs": [],
   "source": [
    "def high()"
   ]
  }
 ],
 "metadata": {
  "kernelspec": {
   "display_name": "Python 3",
   "language": "python",
   "name": "python3"
  },
  "language_info": {
   "codemirror_mode": {
    "name": "ipython",
    "version": 3
   },
   "file_extension": ".py",
   "mimetype": "text/x-python",
   "name": "python",
   "nbconvert_exporter": "python",
   "pygments_lexer": "ipython3",
   "version": "3.6.3"
  }
 },
 "nbformat": 4,
 "nbformat_minor": 2
}
