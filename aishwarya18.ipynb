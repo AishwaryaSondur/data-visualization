{
 "cells": [
  {
   "cell_type": "code",
   "execution_count": 3,
   "metadata": {},
   "outputs": [
    {
     "data": {
      "text/html": [
       "<div>\n",
       "<style>\n",
       "    .dataframe thead tr:only-child th {\n",
       "        text-align: right;\n",
       "    }\n",
       "\n",
       "    .dataframe thead th {\n",
       "        text-align: left;\n",
       "    }\n",
       "\n",
       "    .dataframe tbody tr th {\n",
       "        vertical-align: top;\n",
       "    }\n",
       "</style>\n",
       "<table border=\"1\" class=\"dataframe\">\n",
       "  <thead>\n",
       "    <tr style=\"text-align: right;\">\n",
       "      <th></th>\n",
       "      <th>Category</th>\n",
       "      <th>State/ UT Name</th>\n",
       "      <th>Cow Milk-2010-11</th>\n",
       "      <th>Cow Milk-2011-12</th>\n",
       "      <th>Cow Milk-2013-14</th>\n",
       "      <th>Cow Milk-2014-15</th>\n",
       "      <th>Cow Milk-2015-16</th>\n",
       "      <th>Boffalo Milk-2010-11</th>\n",
       "      <th>Boffalo Milk-2011-12</th>\n",
       "      <th>Boffalo Milk-2013-14</th>\n",
       "      <th>Boffalo Milk-2014-15</th>\n",
       "      <th>Boffalo Milk-2015-16</th>\n",
       "      <th>Goat Milk-2010-11</th>\n",
       "      <th>Goat Milk-2011-12</th>\n",
       "      <th>Goat Milk-2013-14</th>\n",
       "      <th>Goat Milk-2014-15</th>\n",
       "      <th>Goat Milk-2015-16</th>\n",
       "    </tr>\n",
       "  </thead>\n",
       "  <tbody>\n",
       "    <tr>\n",
       "      <th>0</th>\n",
       "      <td>State</td>\n",
       "      <td>Andhra Pradesh</td>\n",
       "      <td>3102.0</td>\n",
       "      <td>3377.0</td>\n",
       "      <td>3799.0</td>\n",
       "      <td>3079</td>\n",
       "      <td>3369</td>\n",
       "      <td>8101.0</td>\n",
       "      <td>8710.0</td>\n",
       "      <td>9207.0</td>\n",
       "      <td>6574</td>\n",
       "      <td>7445</td>\n",
       "      <td>1.0</td>\n",
       "      <td>1.0</td>\n",
       "      <td>1.0</td>\n",
       "      <td>3</td>\n",
       "      <td>3</td>\n",
       "    </tr>\n",
       "    <tr>\n",
       "      <th>1</th>\n",
       "      <td>State</td>\n",
       "      <td>Arunachal Pradesh</td>\n",
       "      <td>28.0</td>\n",
       "      <td>22.0</td>\n",
       "      <td>43.0</td>\n",
       "      <td>46</td>\n",
       "      <td>50</td>\n",
       "      <td>NaN</td>\n",
       "      <td>NaN</td>\n",
       "      <td>0.0</td>\n",
       "      <td>0</td>\n",
       "      <td>0</td>\n",
       "      <td>NaN</td>\n",
       "      <td>NaN</td>\n",
       "      <td>NaN</td>\n",
       "      <td>0</td>\n",
       "      <td>0</td>\n",
       "    </tr>\n",
       "    <tr>\n",
       "      <th>2</th>\n",
       "      <td>State</td>\n",
       "      <td>Assam</td>\n",
       "      <td>666.0</td>\n",
       "      <td>658.0</td>\n",
       "      <td>677.0</td>\n",
       "      <td>685</td>\n",
       "      <td>703</td>\n",
       "      <td>101.0</td>\n",
       "      <td>117.0</td>\n",
       "      <td>122.0</td>\n",
       "      <td>120</td>\n",
       "      <td>117</td>\n",
       "      <td>23.0</td>\n",
       "      <td>22.0</td>\n",
       "      <td>15.0</td>\n",
       "      <td>24</td>\n",
       "      <td>24</td>\n",
       "    </tr>\n",
       "    <tr>\n",
       "      <th>3</th>\n",
       "      <td>State</td>\n",
       "      <td>Bihar</td>\n",
       "      <td>3561.0</td>\n",
       "      <td>3661.0</td>\n",
       "      <td>3986.0</td>\n",
       "      <td>4318</td>\n",
       "      <td>4881</td>\n",
       "      <td>2798.0</td>\n",
       "      <td>2805.0</td>\n",
       "      <td>3015.0</td>\n",
       "      <td>3248</td>\n",
       "      <td>3210</td>\n",
       "      <td>158.0</td>\n",
       "      <td>177.0</td>\n",
       "      <td>196.0</td>\n",
       "      <td>209</td>\n",
       "      <td>198</td>\n",
       "    </tr>\n",
       "    <tr>\n",
       "      <th>4</th>\n",
       "      <td>State</td>\n",
       "      <td>Chhattisgarh</td>\n",
       "      <td>644.0</td>\n",
       "      <td>701.0</td>\n",
       "      <td>788.0</td>\n",
       "      <td>824</td>\n",
       "      <td>919</td>\n",
       "      <td>343.0</td>\n",
       "      <td>368.0</td>\n",
       "      <td>374.0</td>\n",
       "      <td>359</td>\n",
       "      <td>311</td>\n",
       "      <td>43.0</td>\n",
       "      <td>49.0</td>\n",
       "      <td>46.0</td>\n",
       "      <td>49</td>\n",
       "      <td>48</td>\n",
       "    </tr>\n",
       "  </tbody>\n",
       "</table>\n",
       "</div>"
      ],
      "text/plain": [
       "  Category     State/ UT Name  Cow Milk-2010-11  Cow Milk-2011-12  \\\n",
       "0    State     Andhra Pradesh            3102.0            3377.0   \n",
       "1    State  Arunachal Pradesh              28.0              22.0   \n",
       "2    State              Assam             666.0             658.0   \n",
       "3    State              Bihar            3561.0            3661.0   \n",
       "4    State       Chhattisgarh             644.0             701.0   \n",
       "\n",
       "   Cow Milk-2013-14  Cow Milk-2014-15  Cow Milk-2015-16  Boffalo Milk-2010-11  \\\n",
       "0            3799.0              3079              3369                8101.0   \n",
       "1              43.0                46                50                   NaN   \n",
       "2             677.0               685               703                 101.0   \n",
       "3            3986.0              4318              4881                2798.0   \n",
       "4             788.0               824               919                 343.0   \n",
       "\n",
       "   Boffalo Milk-2011-12  Boffalo Milk-2013-14  Boffalo Milk-2014-15  \\\n",
       "0                8710.0                9207.0                  6574   \n",
       "1                   NaN                   0.0                     0   \n",
       "2                 117.0                 122.0                   120   \n",
       "3                2805.0                3015.0                  3248   \n",
       "4                 368.0                 374.0                   359   \n",
       "\n",
       "   Boffalo Milk-2015-16  Goat Milk-2010-11  Goat Milk-2011-12  \\\n",
       "0                  7445                1.0                1.0   \n",
       "1                     0                NaN                NaN   \n",
       "2                   117               23.0               22.0   \n",
       "3                  3210              158.0              177.0   \n",
       "4                   311               43.0               49.0   \n",
       "\n",
       "   Goat Milk-2013-14  Goat Milk-2014-15  Goat Milk-2015-16  \n",
       "0                1.0                  3                  3  \n",
       "1                NaN                  0                  0  \n",
       "2               15.0                 24                 24  \n",
       "3              196.0                209                198  \n",
       "4               46.0                 49                 48  "
      ]
     },
     "execution_count": 3,
     "metadata": {},
     "output_type": "execute_result"
    }
   ],
   "source": [
    "import pandas as pd\n",
    "import numpy as np\n",
    "import matplotlib.pylab as pyplot\n",
    "df=pd.read_csv(\"milk_production(2).csv\")\n",
    "df.head()\n"
   ]
  },
  {
   "cell_type": "code",
   "execution_count": 4,
   "metadata": {},
   "outputs": [
    {
     "data": {
      "text/plain": [
       "'Uttar Pradesh'"
      ]
     },
     "execution_count": 4,
     "metadata": {},
     "output_type": "execute_result"
    }
   ],
   "source": [
    "\n",
    "data=df[df['Category']=='State']\n",
    "d=data['Cow Milk-2013-14']+data['Boffalo Milk-2013-14']+data['Goat Milk-2013-14']\n",
    "data.iloc[np.where(d==np.amax(d))[0][0]]['State/ UT Name']    "
   ]
  },
  {
   "cell_type": "code",
   "execution_count": 26,
   "metadata": {},
   "outputs": [
    {
     "data": {
      "text/plain": [
       "'Uttar Pradesh'"
      ]
     },
     "execution_count": 26,
     "metadata": {},
     "output_type": "execute_result"
    }
   ],
   "source": [
    "data=df[df['Category']=='State']\n",
    "d=data['Cow Milk-2010-11']+data['Cow Milk-2011-12']+data['Cow Milk-2013-14']+data['Cow Milk-2014-15']+data['Boffalo Milk-2010-11']+data['Boffalo Milk-2011-12']+data['Boffalo Milk-2013-14']+data['Boffalo Milk-2014-15']+data['Goat Milk-2010-11']+data['Goat Milk-2011-12']+data['Goat Milk-2013-14']+data['Goat Milk-2014-15']\n",
    "data.iloc[np.where(d==np.amax(d))[0][0]]['State/ UT Name']  \n",
    "\n"
   ]
  },
  {
   "cell_type": "code",
   "execution_count": 27,
   "metadata": {},
   "outputs": [
    {
     "data": {
      "text/plain": [
       "23    Tamil Nadu\n",
       "Name: State/ UT Name, dtype: object"
      ]
     },
     "execution_count": 27,
     "metadata": {},
     "output_type": "execute_result"
    }
   ],
   "source": [
    "d1=df.sort_values('Cow Milk-2013-14',ascending=False)['State/ UT Name'].head(1)\n",
    "d1[df['Category']=='State']     "
   ]
  },
  {
   "cell_type": "code",
   "execution_count": 39,
   "metadata": {},
   "outputs": [
    {
     "data": {
      "text/plain": [
       "56772.0"
      ]
     },
     "execution_count": 39,
     "metadata": {},
     "output_type": "execute_result"
    }
   ],
   "source": [
    "data=df[df['State/ UT Name']=='Andhra Pradesh']\n",
    "data\n",
    "d=data['Cow Milk-2010-11']+data['Cow Milk-2011-12']+data['Cow Milk-2013-14']+data['Cow Milk-2014-15']+data['Cow Milk-2015-16']+data['Boffalo Milk-2010-11']+data['Boffalo Milk-2011-12']+data['Boffalo Milk-2013-14']+data['Boffalo Milk-2014-15']+data['Boffalo Milk-2015-16']+data['Goat Milk-2010-11']+data['Goat Milk-2011-12']+data['Goat Milk-2013-14']+data['Goat Milk-2014-15']+data['Goat Milk-2015-16']\n",
    "d.mean()\n"
   ]
  },
  {
   "cell_type": "code",
   "execution_count": 88,
   "metadata": {},
   "outputs": [
    {
     "data": {
      "image/png": "[encoded data removed]",
      "text/plain": [
       "<matplotlib.figure.Figure at 0x7fc007749438>"
      ]
     },
     "metadata": {},
     "output_type": "display_data"
    }
   ],
   "source": [
    "import matplotlib.pyplot as plt\n",
    "import numpy as np\n",
    "df = pd.read_csv(\"milk_production(2).csv\")\n",
    "df.iloc[1,2:6].plot(kind='line')\n",
    "plt.show()"
   ]
  },
  {
   "cell_type": "code",
   "execution_count": 41,
   "metadata": {},
   "outputs": [
    {
     "data": {
      "text/html": [
       "<div>\n",
       "<style>\n",
       "    .dataframe thead tr:only-child th {\n",
       "        text-align: right;\n",
       "    }\n",
       "\n",
       "    .dataframe thead th {\n",
       "        text-align: left;\n",
       "    }\n",
       "\n",
       "    .dataframe tbody tr th {\n",
       "        vertical-align: top;\n",
       "    }\n",
       "</style>\n",
       "<table border=\"1\" class=\"dataframe\">\n",
       "  <thead>\n",
       "    <tr style=\"text-align: right;\">\n",
       "      <th></th>\n",
       "      <th>Region</th>\n",
       "      <th>Country/ Region</th>\n",
       "      <th>2010</th>\n",
       "      <th>2011</th>\n",
       "      <th>2012</th>\n",
       "      <th>2013</th>\n",
       "      <th>2014</th>\n",
       "      <th>2015</th>\n",
       "      <th>2016</th>\n",
       "    </tr>\n",
       "  </thead>\n",
       "  <tbody>\n",
       "    <tr>\n",
       "      <th>0</th>\n",
       "      <td>North America</td>\n",
       "      <td>US</td>\n",
       "      <td>34.990</td>\n",
       "      <td>39.775</td>\n",
       "      <td>44.180</td>\n",
       "      <td>48.463</td>\n",
       "      <td>54.962</td>\n",
       "      <td>47.987</td>\n",
       "      <td>47.987</td>\n",
       "    </tr>\n",
       "    <tr>\n",
       "      <th>1</th>\n",
       "      <td>North America</td>\n",
       "      <td>Canada</td>\n",
       "      <td>174.848</td>\n",
       "      <td>174.177</td>\n",
       "      <td>173.716</td>\n",
       "      <td>173.038</td>\n",
       "      <td>172.156</td>\n",
       "      <td>171.512</td>\n",
       "      <td>171.512</td>\n",
       "    </tr>\n",
       "    <tr>\n",
       "      <th>2</th>\n",
       "      <td>North America</td>\n",
       "      <td>Mexico</td>\n",
       "      <td>11.691</td>\n",
       "      <td>11.394</td>\n",
       "      <td>11.424</td>\n",
       "      <td>11.079</td>\n",
       "      <td>10.816</td>\n",
       "      <td>7.977</td>\n",
       "      <td>7.977</td>\n",
       "    </tr>\n",
       "    <tr>\n",
       "      <th>3</th>\n",
       "      <td>S. &amp; Cent. America</td>\n",
       "      <td>Argentina</td>\n",
       "      <td>2.524</td>\n",
       "      <td>2.525</td>\n",
       "      <td>2.354</td>\n",
       "      <td>2.330</td>\n",
       "      <td>2.380</td>\n",
       "      <td>2.395</td>\n",
       "      <td>2.395</td>\n",
       "    </tr>\n",
       "    <tr>\n",
       "      <th>4</th>\n",
       "      <td>S. &amp; Cent. America</td>\n",
       "      <td>Brazil</td>\n",
       "      <td>14.246</td>\n",
       "      <td>15.050</td>\n",
       "      <td>15.314</td>\n",
       "      <td>15.593</td>\n",
       "      <td>16.184</td>\n",
       "      <td>13.000</td>\n",
       "      <td>12.634</td>\n",
       "    </tr>\n",
       "  </tbody>\n",
       "</table>\n",
       "</div>"
      ],
      "text/plain": [
       "               Region Country/ Region     2010     2011     2012     2013  \\\n",
       "0       North America              US   34.990   39.775   44.180   48.463   \n",
       "1       North America          Canada  174.848  174.177  173.716  173.038   \n",
       "2       North America          Mexico   11.691   11.394   11.424   11.079   \n",
       "3  S. & Cent. America       Argentina    2.524    2.525    2.354    2.330   \n",
       "4  S. & Cent. America          Brazil   14.246   15.050   15.314   15.593   \n",
       "\n",
       "      2014     2015     2016  \n",
       "0   54.962   47.987   47.987  \n",
       "1  172.156  171.512  171.512  \n",
       "2   10.816    7.977    7.977  \n",
       "3    2.380    2.395    2.395  \n",
       "4   16.184   13.000   12.634  "
      ]
     },
     "execution_count": 41,
     "metadata": {},
     "output_type": "execute_result"
    }
   ],
   "source": [
    "import pandas as pd\n",
    "import numpy as np\n",
    "import matplotlib.pylab as pyplot\n",
    "df1=pd.read_csv(\"oil_reserves.csv\")\n",
    "df1.head()\n"
   ]
  },
  {
   "cell_type": "code",
   "execution_count": 54,
   "metadata": {},
   "outputs": [
    {
     "data": {
      "text/plain": [
       "2014    299.953\n",
       "2015    300.878\n",
       "2016    300.978\n",
       "dtype: float64"
      ]
     },
     "execution_count": 54,
     "metadata": {},
     "output_type": "execute_result"
    }
   ],
   "source": [
    "data=df1['Region']\n",
    "df1.iloc[:,6:].max()"
   ]
  },
  {
   "cell_type": "code",
   "execution_count": null,
   "metadata": {},
   "outputs": [],
   "source": []
  },
  {
   "cell_type": "code",
   "execution_count": 4,
   "metadata": {},
   "outputs": [
    {
     "ename": "AttributeError",
     "evalue": "'list' object has no attribute 'unique'",
     "output_type": "error",
     "traceback": [
      "\u001b[0;31m---------------------------------------------------------------------------\u001b[0m",
      "\u001b[0;31mAttributeError\u001b[0m                            Traceback (most recent call last)",
      "\u001b[0;32m<ipython-input-4-090666b50bda>\u001b[0m in \u001b[0;36m<module>\u001b[0;34m()\u001b[0m\n\u001b[1;32m      4\u001b[0m \u001b[0mdf1\u001b[0m\u001b[0;34m=\u001b[0m\u001b[0mpd\u001b[0m\u001b[0;34m.\u001b[0m\u001b[0mread_csv\u001b[0m\u001b[0;34m(\u001b[0m\u001b[0;34m\"oil_reserves.csv\"\u001b[0m\u001b[0;34m)\u001b[0m\u001b[0;34m\u001b[0m\u001b[0m\n\u001b[1;32m      5\u001b[0m \u001b[0;34m\u001b[0m\u001b[0m\n\u001b[0;32m----> 6\u001b[0;31m \u001b[0mlabels\u001b[0m\u001b[0;34m=\u001b[0m\u001b[0mdf1\u001b[0m\u001b[0;34m(\u001b[0m\u001b[0;34m[\u001b[0m\u001b[0;34m'Region'\u001b[0m\u001b[0;34m]\u001b[0m\u001b[0;34m.\u001b[0m\u001b[0munique\u001b[0m\u001b[0;34m)\u001b[0m\u001b[0;34m\u001b[0m\u001b[0m\n\u001b[0m\u001b[1;32m      7\u001b[0m \u001b[0msizes\u001b[0m\u001b[0;34m=\u001b[0m\u001b[0mdf1\u001b[0m\u001b[0;34m[\u001b[0m\u001b[0;34m'2010'\u001b[0m\u001b[0;34m]\u001b[0m\u001b[0;34m\u001b[0m\u001b[0m\n\u001b[1;32m      8\u001b[0m \u001b[0mfig1\u001b[0m\u001b[0;34m,\u001b[0m \u001b[0max1\u001b[0m \u001b[0;34m=\u001b[0m \u001b[0mplt\u001b[0m\u001b[0;34m.\u001b[0m\u001b[0msubplots\u001b[0m\u001b[0;34m(\u001b[0m\u001b[0;34m)\u001b[0m\u001b[0;34m\u001b[0m\u001b[0m\n",
      "\u001b[0;31mAttributeError\u001b[0m: 'list' object has no attribute 'unique'"
     ]
    }
   ],
   "source": [
    "import pandas as pd\n",
    "import numpy as np\n",
    "import matplotlib.pylab as plt\n",
    "df1=pd.read_csv(\"oil_reserves.csv\")\n",
    "\n",
    "labels=df1(['Region'].unique)\n",
    "sizes=df1['2010']\n",
    "fig1, ax1 = plt.subplots()\n",
    "plt.pie(sizes,labels=labels,autopct='%1.1f%%', shadow=True, startangle=140)\n",
    "ax1.axis('equal')\n",
    "plt.tight_layout()\n",
    "plt.show()"
   ]
  },
  {
   "cell_type": "code",
   "execution_count": 5,
   "metadata": {},
   "outputs": [
    {
     "name": "stdout",
     "output_type": "stream",
     "text": [
      "9    S. & Cent. America\n",
      "Name: Region, dtype: object\n"
     ]
    }
   ],
   "source": [
    "d=df1[\"2014\"]+df1[\"2015\"]+df1[\"2016\"]\n",
    "print(df1[d==d.max()][\"Region\"]) \n",
    "\n"
   ]
  },
  {
   "cell_type": "code",
   "execution_count": null,
   "metadata": {
    "collapsed": true
   },
   "outputs": [],
   "source": []
  }
 ],
 "metadata": {
  "kernelspec": {
   "display_name": "Python 3",
   "language": "python",
   "name": "python3"
  },
  "language_info": {
   "codemirror_mode": {
    "name": "ipython",
    "version": 3
   },
   "file_extension": ".py",
   "mimetype": "text/x-python",
   "name": "python",
   "nbconvert_exporter": "python",
   "pygments_lexer": "ipython3",
   "version": "3.6.3"
  }
 },
 "nbformat": 4,
 "nbformat_minor": 2
}
